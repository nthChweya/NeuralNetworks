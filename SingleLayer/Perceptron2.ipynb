{
 "cells": [
  {
   "cell_type": "markdown",
   "id": "2bc3dc5b",
   "metadata": {},
   "source": [
    "Uses numpy python Library"
   ]
  },
  {
   "cell_type": "code",
   "execution_count": 13,
   "id": "f6914fdb",
   "metadata": {},
   "outputs": [
    {
     "name": "stdout",
     "output_type": "stream",
     "text": [
      "-25.5\n",
      "0\n"
     ]
    }
   ],
   "source": [
    "import numpy as np\n",
    "\n",
    "inputs = np.array([35, 25])\n",
    "\n",
    "weights = np.array([-0.8, 0.1])\n",
    "\n",
    "### Sum Function (Takes two parameters i.e. inputs and weights)\n",
    "def sum(inputs, weights):\n",
    "    return inputs.dot(weights)\n",
    "\n",
    "s = sum(inputs, weights) \n",
    "print(s)\n",
    "\n",
    "### Step Function i.e. f\n",
    "def step_function(sum):\n",
    "    if (sum >= 1):\n",
    "        return 1\n",
    "    return 0  \n",
    "    \n",
    "## Calculate Final Result\n",
    "final_result = step_function(s)\n",
    "print(final_result)      \n"
   ]
  }
 ],
 "metadata": {
  "kernelspec": {
   "display_name": "Python 3",
   "language": "python",
   "name": "python3"
  },
  "language_info": {
   "codemirror_mode": {
    "name": "ipython",
    "version": 3
   },
   "file_extension": ".py",
   "mimetype": "text/x-python",
   "name": "python",
   "nbconvert_exporter": "python",
   "pygments_lexer": "ipython3",
   "version": "3.13.5"
  }
 },
 "nbformat": 4,
 "nbformat_minor": 5
}
