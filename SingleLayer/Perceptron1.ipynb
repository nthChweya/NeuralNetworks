{
 "cells": [
  {
   "cell_type": "markdown",
   "id": "eb12b449",
   "metadata": {},
   "source": [
    "Inputs and Weights"
   ]
  },
  {
   "cell_type": "code",
   "execution_count": null,
   "id": "b63bfc4a",
   "metadata": {},
   "outputs": [],
   "source": [
    "inputs = [35, 25]\n",
    "weights = [0.8, 0.1]"
   ]
  },
  {
   "cell_type": "code",
   "execution_count": 23,
   "id": "1126c3d5",
   "metadata": {},
   "outputs": [
    {
     "name": "stdout",
     "output_type": "stream",
     "text": [
      "30.5\n",
      "1\n"
     ]
    }
   ],
   "source": [
    "### Sum Function (Takes two parameters i.e. inputs and weights)\n",
    "\n",
    "def sum(inputs, weights):\n",
    "    s = 0\n",
    "    for i in range(2):\n",
    "        # print(inputs[i])\n",
    "        # print(weights[i])\n",
    "        # s = s + inputs[i] + weights[i]  \n",
    "        s +=  inputs[i] * weights[i]\n",
    "    return s\n",
    "\n",
    "s = sum(inputs, weights) \n",
    "print(s)       \n",
    "\n",
    "### Step Function i.e. f\n",
    "def step_function(sum):\n",
    "    if (sum >= 1):\n",
    "        return 1\n",
    "    return 0    \n",
    "\n",
    "## Calculate Final Result\n",
    "final_result = step_function(s)\n",
    "print(final_result)    "
   ]
  }
 ],
 "metadata": {
  "kernelspec": {
   "display_name": "Python 3",
   "language": "python",
   "name": "python3"
  },
  "language_info": {
   "codemirror_mode": {
    "name": "ipython",
    "version": 3
   },
   "file_extension": ".py",
   "mimetype": "text/x-python",
   "name": "python",
   "nbconvert_exporter": "python",
   "pygments_lexer": "ipython3",
   "version": "3.13.5"
  }
 },
 "nbformat": 4,
 "nbformat_minor": 5
}
